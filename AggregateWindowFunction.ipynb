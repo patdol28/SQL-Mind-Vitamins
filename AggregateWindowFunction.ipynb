{
    "metadata": {
        "kernelspec": {
            "name": "SQL",
            "display_name": "SQL",
            "language": "sql"
        },
        "language_info": {
            "name": "sql",
            "version": ""
        }
    },
    "nbformat_minor": 2,
    "nbformat": 4,
    "cells": [
        {
            "cell_type": "markdown",
            "source": [
                "# Aggregate Window Function  \r\n",
                "\r\n",
                ""
            ],
            "metadata": {
                "azdata_cell_guid": "8967aa6b-f091-418a-996b-f27b084d5b8d"
            },
            "attachments": {}
        },
        {
            "cell_type": "markdown",
            "source": [
                "In order to get a line by line pct total for a partitioned category in SQL, you need to use a window function. The aggregate window function allows you to generate this field to be used in calculation.  \r\n",
                "  \r\n",
                "**TOP 5** is included in the sample query to limit the output. Remove TOP 5 to return the complete dataset.\r\n",
                ""
            ],
            "metadata": {
                "azdata_cell_guid": "237fad65-1a9e-4e0f-bc94-54f102a9bebe"
            },
            "attachments": {}
        },
        {
            "cell_type": "code",
            "source": [
                "-- Aggregate Functions\r\n",
                "SELECT TOP 5 ord.ShipCountry   \r\n",
                "      ,ord.ShipName\r\n",
                "\t  ,CAST(ord.ShippedDate as DATE) as 'ShippedDate'\r\n",
                "\t  ,ord.Freight\r\n",
                "\t  ,SUM(ord.Freight) OVER(PARTITION BY ord.ShipCountry) as 'WeightByCountry'\r\n",
                "FROM dbo.Orders ord\r\n",
                "ORDER BY ord.ShipCountry, ord.ShipName\r\n",
                ";"
            ],
            "metadata": {
                "azdata_cell_guid": "7ab42778-bb1f-43ad-a116-a981a0bbb1e7",
                "language": "sql",
                "tags": []
            },
            "outputs": [],
            "execution_count": null
        },
        {
            "cell_type": "markdown",
            "source": [
                "Now, we will complete the query generating the pct line by line, and order by that result.  \n",
                "\n",
                "**TOP 5** is included in the sample query to limit the output. Remove TOP 5 to return the complete dataset."
            ],
            "metadata": {
                "language": "sql",
                "azdata_cell_guid": "2cf4d3ee-382d-4232-b600-b774b7e8dc9d"
            },
            "attachments": {}
        },
        {
            "cell_type": "code",
            "source": [
                "WITH aggCountry_CTE as\r\n",
                "(\r\n",
                "\tSELECT ord.ShipCountry   \r\n",
                "\t\t  ,ord.ShipName\r\n",
                "\t\t  ,CAST(ord.ShippedDate as DATE) as 'ShippedDate'\r\n",
                "\t\t  ,ord.Freight\r\n",
                "\t\t  ,SUM(ord.Freight) OVER(PARTITION BY ord.ShipCountry) as 'WeightByCountry'\r\n",
                "\tFROM dbo.Orders ord\r\n",
                ")\r\n",
                "SELECT TOP 5 ShipCountry as 'Country'\r\n",
                "      ,ShipName as 'Customer'\r\n",
                "\t  ,ShippedDate as 'Ship Date'\r\n",
                "\t  ,Freight as 'Charge'\r\n",
                "\t  ,Freight / WeightByCountry as 'pct Rate by Country'\r\n",
                "FROM aggCountry_CTE\r\n",
                "ORDER BY Country, [pct Rate by Country] DESC\r\n",
                ";\r\n",
                ""
            ],
            "metadata": {
                "language": "sql",
                "azdata_cell_guid": "ba3b72e9-dbae-4490-92f3-78cc1ac1c59b",
                "tags": []
            },
            "outputs": [],
            "execution_count": null
        }
    ]
}