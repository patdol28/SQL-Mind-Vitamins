{
    "metadata": {
        "kernelspec": {
            "name": "SQL",
            "display_name": "SQL",
            "language": "sql"
        },
        "language_info": {
            "name": "sql",
            "version": ""
        }
    },
    "nbformat_minor": 2,
    "nbformat": 4,
    "cells": [
        {
            "cell_type": "markdown",
            "source": [
                "Return the data set below, show the following:\n",
                "\n",
                "\\- Return the avg unit price for each product category\n",
                "\n",
                "\\- Order them from greatest to least by Avg Unit Price\n",
                "\n",
                "\\- Round the Avg Price to two decimals\n",
                "\n",
                "\\- Alias the names as show below:"
            ],
            "metadata": {
                "azdata_cell_guid": "91fe4149-6fa5-4f04-9896-79610a2fe987"
            },
            "attachments": {}
        },
        {
            "cell_type": "code",
            "source": [
                "-- Level I\r\n",
                "SELECT cat.CategoryName as 'Category Name'\r\n",
                "      ,round(avg(prod.UnitPrice),2) as 'Avg Unit Price'\r\n",
                "FROM dbo.Categories cat\r\n",
                "\tINNER JOIN dbo.Products prod\r\n",
                "\tON cat.CategoryID = prod.CategoryID\r\n",
                "GROUP BY cat.CategoryName\r\n",
                "ORDER BY [Avg Unit Price] DESC\r\n",
                ";"
            ],
            "metadata": {
                "azdata_cell_guid": "2d967c5f-d6d8-4708-bda2-f66f264b01d0",
                "language": "sql"
            },
            "outputs": [],
            "execution_count": null
        },
        {
            "cell_type": "markdown",
            "source": [
                "Using your products Avg Unit Price Query from the section above:\n",
                "\n",
                "\\- Return the same query results but ONLY for Avg Unit Prices Greater than or equal to 25.00"
            ],
            "metadata": {
                "language": "sql",
                "azdata_cell_guid": "7ef4a0cc-ad29-4a9b-b2b1-eacfa61d814b"
            },
            "attachments": {}
        },
        {
            "cell_type": "code",
            "source": [
                "-- Level II\r\n",
                "SELECT cat.CategoryName as 'Category Name'\r\n",
                "      ,round(avg(prod.UnitPrice),2) as 'Avg Unit Price'\r\n",
                "FROM dbo.Categories cat\r\n",
                "\tINNER JOIN dbo.Products prod\r\n",
                "\tON cat.CategoryID = prod.CategoryID\r\n",
                "GROUP BY cat.CategoryName\r\n",
                "HAVING avg(prod.UnitPrice) > 25.00\r\n",
                "ORDER BY [Avg Unit Price] DESC\r\n",
                ";"
            ],
            "metadata": {
                "language": "sql",
                "azdata_cell_guid": "c74b9e3e-996e-4770-aa6c-72f2154ca266"
            },
            "outputs": [],
            "execution_count": null
        },
        {
            "cell_type": "markdown",
            "source": [
                "Using your products Avg Unit Price Query from the section above (Level II)-:\n",
                "\n",
                "\\- Return the same data - convert it to a CTE - \\*Using WITH\\* (for Pat's memory)"
            ],
            "metadata": {
                "language": "sql",
                "azdata_cell_guid": "e6c5a575-59fc-43f7-825b-98ad5c6391f4"
            },
            "attachments": {}
        },
        {
            "cell_type": "code",
            "source": [
                "-- Level III\r\n",
                "WITH lvl1_Cat as\r\n",
                "(\r\n",
                "SELECT cat.CategoryName \r\n",
                "      ,round(avg(prod.UnitPrice),2) as 'avgUnitPrice'\r\n",
                "FROM dbo.Categories cat\r\n",
                "\tINNER JOIN dbo.Products prod\r\n",
                "\tON cat.CategoryID = prod.CategoryID\r\n",
                "GROUP BY cat.CategoryName\r\n",
                ")\r\n",
                "SELECT CategoryName as 'Category Name'\r\n",
                "      ,avgUnitPrice as 'Avg Unit Price'\r\n",
                "FROM lvl1_Cat\r\n",
                "WHERE avgUnitPrice >= 25.00\r\n",
                "ORDER BY 2 DESC\r\n",
                ";"
            ],
            "metadata": {
                "language": "sql",
                "azdata_cell_guid": "a91351d6-6cb4-4d07-b341-e356d6012c48"
            },
            "outputs": [],
            "execution_count": null
        }
    ]
}